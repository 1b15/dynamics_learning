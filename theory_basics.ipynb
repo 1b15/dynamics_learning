{
 "cells": [
  {
   "cell_type": "markdown",
   "id": "47aeb610-0595-4235-a5c7-ed31d98c49c0",
   "metadata": {},
   "source": [
    "# Basic Functions"
   ]
  },
  {
   "cell_type": "code",
   "execution_count": 1,
   "id": "578bd0c2-861d-42b2-80fd-73a7302f6f3a",
   "metadata": {
    "tags": []
   },
   "outputs": [],
   "source": [
    "import numpy as np\n",
    "import math\n",
    "\n",
    "import matplotlib.pyplot as plt\n",
    "import matplotlib"
   ]
  },
  {
   "cell_type": "code",
   "execution_count": 2,
   "id": "aef6de12-0cdb-4b3c-8c0c-3b1d367e1021",
   "metadata": {
    "tags": []
   },
   "outputs": [],
   "source": [
    "def u(t, T, scale=5000):\n",
    "    return scale * np.sin(2 * np.pi * t / T)"
   ]
  },
  {
   "cell_type": "code",
   "execution_count": 3,
   "id": "7ef93ed5-73d8-4d40-974b-38dceb9b6948",
   "metadata": {},
   "outputs": [],
   "source": [
    "# nonlinearity\n",
    "def phi(x, scale=10):\n",
    "    return 1 / (1 + np.exp(np.maximum(-250, np.minimum(250, -scale * x))))\n",
    "\n",
    "\n",
    "def f_I_matrix_multiply(w, x):\n",
    "    return w @ x\n",
    "\n",
    "\n",
    "def get_dx(X, w, i, f_I, phi, u, alpha, theta, t, delay_i, T, dt, stimulate=True):\n",
    "    I_in = f_I(w, X[i - delay_i])\n",
    "    return (-X[i - 1] + phi(int(stimulate) * u(t[i] + theta, T) + I_in)) * dt * alpha\n",
    "\n",
    "\n",
    "def get_dw(X, dx, w, i, beta, lmbda, delay_i, dt):\n",
    "    return (-lmbda * w + np.outer(dx / dt, X[i - delay_i])) * dt * beta  # post <- pre"
   ]
  },
  {
   "cell_type": "code",
   "execution_count": 4,
   "id": "07c48c68-27a4-41d0-bf19-1c0d27e8b433",
   "metadata": {
    "tags": []
   },
   "outputs": [],
   "source": [
    "def simulate(\n",
    "    dt,\n",
    "    N,\n",
    "    T,\n",
    "    t,\n",
    "    theta,\n",
    "    alpha,\n",
    "    beta,\n",
    "    delay_i,\n",
    "    lmbda,\n",
    "    w,\n",
    "    get_dw,\n",
    "    get_dx,\n",
    "    f_I,\n",
    "    phi,\n",
    "    u,\n",
    "    stimulate=True,\n",
    "    full_info=True,\n",
    "    init_stimulation=True,\n",
    "    init_travel=1,\n",
    "    init_steps=None\n",
    "):\n",
    "    N_STEPS = len(t)\n",
    "    X = np.zeros((N_STEPS, N))\n",
    "    W = [w.copy()]\n",
    "    DW = []\n",
    "    DX = []\n",
    "\n",
    "    if init_steps is None:\n",
    "        if init_travel == 0:\n",
    "            init_steps = delay_i\n",
    "            t_init = np.zeros(delay_i)\n",
    "        else:\n",
    "            init_steps = 0\n",
    "            while init_steps <= delay_i:\n",
    "                init_steps += abs(round(N / init_travel))\n",
    "            if init_travel > 0:\n",
    "                t_init = np.arange(0, init_steps, init_travel*dt)\n",
    "            else:\n",
    "                t_init = np.arange(init_steps, 0, init_travel*dt)\n",
    "    else:\n",
    "        if init_travel == 0:\n",
    "            t_init = np.zeros(init_steps)\n",
    "        elif init_travel > 0:\n",
    "            t_init = np.arange(0, init_steps, init_travel*dt)\n",
    "        else:\n",
    "            t_init = np.arange(init_steps, 0, init_travel*dt)\n",
    "        \n",
    "    \n",
    "    for i in range(1, init_steps):\n",
    "        dx = get_dx(\n",
    "            X, w, i, lambda w, x: 0, phi, u, alpha, theta, t_init,\n",
    "            delay_i, T, dt, stimulate=init_stimulation\n",
    "        )\n",
    "        X[i] = X[i - 1] + dx\n",
    "    \n",
    "        if full_info:\n",
    "            W.append(w.copy())\n",
    "            DW.append(np.zeros_like(w))\n",
    "            DX.append(dx.copy())\n",
    "\n",
    "    for i in range(init_steps, N_STEPS):\n",
    "        dx = get_dx(X, w, i, f_I, phi, u, alpha, theta, t, delay_i, T, dt, stimulate=stimulate)\n",
    "        dw = get_dw(X, dx, w, i, beta, lmbda, delay_i, dt)\n",
    "\n",
    "        # Update the neuronal activity\n",
    "        X[i] = X[i - 1] + dx\n",
    "\n",
    "        # Update the synaptic weights\n",
    "        w += dw\n",
    "\n",
    "        if full_info:\n",
    "            W.append(w.copy())\n",
    "            DW.append(dw.copy())\n",
    "            DX.append(dx.copy())\n",
    "    if full_info:\n",
    "        return X, w, np.array(W), np.array(DW), np.array(DX)\n",
    "    else:\n",
    "        return X, w"
   ]
  },
  {
   "cell_type": "markdown",
   "id": "3c8e90ee-f693-42d1-9ef2-fc602408b22e",
   "metadata": {},
   "source": [
    "# Constants"
   ]
  },
  {
   "cell_type": "code",
   "execution_count": 23,
   "id": "60013841-4927-4685-b768-1d0963a1e5ec",
   "metadata": {
    "tags": []
   },
   "outputs": [],
   "source": [
    "dt = 2e-4\n",
    "N = 500  # number of neurons\n",
    "T = N * dt  # period, in seconds\n",
    "\n",
    "rolling_indices = np.array([np.roll(np.arange(N), -i) for i in range(N)])\n",
    "\n",
    "simulation_duration = 150 * T\n",
    "t = np.arange(0, simulation_duration, dt)\n",
    "\n",
    "theta = np.linspace(0, T, N, endpoint=False)  # spatial variable for neurons\n",
    "\n",
    "# time constants, in seconds\n",
    "tau_x = 5 * 1e-3\n",
    "alpha = 1 / tau_x\n",
    "\n",
    "tau_d = 15 * 1e-3\n",
    "delay_i = round(tau_d / dt)\n",
    "\n",
    "tau_w = 50\n",
    "beta = 1 / tau_w\n",
    "\n",
    "lmbda = 20"
   ]
  },
  {
   "cell_type": "markdown",
   "id": "89146ee3-2e2e-42aa-a55f-a27082ffc4ae",
   "metadata": {},
   "source": [
    "# Full Connectivity Simulation"
   ]
  },
  {
   "attachments": {},
   "cell_type": "markdown",
   "id": "274294ca-5772-409a-b903-6153cb065f45",
   "metadata": {},
   "source": [
    "$$\n",
    "\\text{input current \\hspace{0.2cm}} u(x, t) = u(x, t + T) = u(0, t+x)\n",
    "$$\n",
    "\n",
    "$$\n",
    "\\text{firing rate \\hspace{0.1cm}} r(x, t)\n",
    "$$\n",
    "$$\n",
    "\\tau_r \\frac{\\partial}{\\partial t} r(x, t) = -r(x, t) + \\varphi\\bigg(u(x, t) + \\int_0^T w(x, y, t) r(y, t - \\tau_d) dy\\bigg)\n",
    "$$\n",
    "\n",
    "$$\n",
    "\\text{learned weights \\hspace{0.1cm}} \\lim_{t\\to \\infty} w(\\Delta x, t)\n",
    "$$\n",
    "\n",
    "$$\n",
    "\\text{learned weights from $y$ to $x$ \\hspace{0.1cm}} \\lim_{t\\to \\infty} w(x, y, t)\n",
    "$$\n",
    "$$\n",
    "\\tau_w \\frac{\\partial}{\\partial t} w(x, y, t) = {r}(y, t-\\tau_d)\\dot{r}(x, t) - \\lambda {w}(x, y, t)\n",
    "$$"
   ]
  },
  {
   "cell_type": "code",
   "execution_count": 6,
   "id": "6b8dab22-72bf-4ec9-8db2-25c066049669",
   "metadata": {},
   "outputs": [],
   "source": [
    "w_full = 0.05 * np.random.randn(N, N)\n",
    "\n",
    "X_full, w_full = simulate(\n",
    "    dt,\n",
    "    N,\n",
    "    T,\n",
    "    t,\n",
    "    theta,\n",
    "    alpha,\n",
    "    beta,\n",
    "    delay_i,\n",
    "    lmbda,\n",
    "    w_full,\n",
    "    get_dw,\n",
    "    get_dx,\n",
    "    f_I_matrix_multiply,\n",
    "    phi,\n",
    "    u,\n",
    "    full_info=False,\n",
    ")"
   ]
  },
  {
   "cell_type": "markdown",
   "id": "6aba8aca-7d36-43f2-94ab-3f4df944aba8",
   "metadata": {},
   "source": [
    "# Weight Symmetry\n",
    "\n",
    "We observe a periodicity of network activity and synaptic weights."
   ]
  },
  {
   "cell_type": "code",
   "execution_count": 7,
   "id": "3e287fde-d2af-45a7-8a26-494dd9089864",
   "metadata": {
    "tags": []
   },
   "outputs": [],
   "source": [
    "def symmetrize(A, mod):\n",
    "    return np.array(\n",
    "        [np.roll(row, -round(N * i / mod % mod)) for i, row in enumerate(A)]\n",
    "    )"
   ]
  },
  {
   "cell_type": "code",
   "execution_count": 8,
   "id": "a0d85460-1630-4035-b09d-b1a4dffb206e",
   "metadata": {
    "tags": []
   },
   "outputs": [],
   "source": [
    "def f_I_conv_circ(signal, ker):\n",
    "    return np.array(\n",
    "        [np.sum(signal * np.roll(ker[::-1], n)) for n in range(1, len(signal) + 1)]\n",
    "    )\n",
    "\n",
    "def f_I_conv_circ_fft(signal, ker):\n",
    "    return np.real(np.fft.ifft(np.fft.fft(signal) * np.fft.fft(ker)))"
   ]
  },
  {
   "cell_type": "code",
   "execution_count": 16,
   "id": "b108b186-b067-48ae-b01f-16c30b274704",
   "metadata": {
    "tags": []
   },
   "outputs": [],
   "source": [
    "w = w_full[:, 0]"
   ]
  },
  {
   "cell_type": "code",
   "execution_count": 9,
   "id": "fcb024be-5a54-4772-a67b-f4db49812121",
   "metadata": {
    "tags": []
   },
   "outputs": [],
   "source": [
    "def get_dw_prime(X, dx, w, i, beta, lmbda, delay_i, dt):\n",
    "    return (-lmbda * w + X[i - delay_i, 0] * (dx / dt)) * dt * beta"
   ]
  },
  {
   "cell_type": "code",
   "execution_count": 10,
   "id": "29e4f903-c52c-4b45-841f-e55a815e4bf7",
   "metadata": {
    "tags": []
   },
   "outputs": [],
   "source": [
    "def get_dw_prime_mean(X, dx, w, i, beta, lmbda, delay_i, dt):\n",
    "    return (\n",
    "        (\n",
    "            -lmbda * w * dt\n",
    "            + (dx[rolling_indices] * X[i - delay_i][:, None]).mean(0)\n",
    "        )\n",
    "        * beta\n",
    "    )"
   ]
  },
  {
   "cell_type": "code",
   "execution_count": 24,
   "id": "c56cbae4-dac1-4eb4-bdc8-c544235f17ae",
   "metadata": {
    "tags": []
   },
   "outputs": [],
   "source": [
    "w = 0.05 * np.random.randn(N)\n",
    "\n",
    "X, w, W, DW, DX = simulate(\n",
    "    dt,\n",
    "    N,\n",
    "    T,\n",
    "    t,\n",
    "    theta,\n",
    "    alpha,\n",
    "    beta,\n",
    "    delay_i,\n",
    "    lmbda,\n",
    "    w,\n",
    "    get_dw_prime_mean,\n",
    "    get_dx,\n",
    "    f_I_conv_circ_fft,\n",
    "    phi,\n",
    "    u,\n",
    "    full_info=True,\n",
    ")"
   ]
  },
  {
   "cell_type": "code",
   "execution_count": null,
   "id": "23340fc7-7c27-48bf-86dd-7e450cf94281",
   "metadata": {},
   "outputs": [],
   "source": []
  }
 ],
 "metadata": {
  "kernelspec": {
   "display_name": "Python 3 (ipykernel)",
   "language": "python",
   "name": "python3"
  },
  "language_info": {
   "codemirror_mode": {
    "name": "ipython",
    "version": 3
   },
   "file_extension": ".py",
   "mimetype": "text/x-python",
   "name": "python",
   "nbconvert_exporter": "python",
   "pygments_lexer": "ipython3",
   "version": "3.11.4"
  }
 },
 "nbformat": 4,
 "nbformat_minor": 5
}
