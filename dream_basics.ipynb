{
 "cells": [
  {
   "cell_type": "code",
   "execution_count": 2,
   "id": "12a6c5a0-daa1-4742-8619-a817223cba23",
   "metadata": {},
   "outputs": [],
   "source": [
    "from scipy.ndimage import zoom\n",
    "from scipy.signal import find_peaks\n",
    "from scipy.interpolate import interp1d"
   ]
  },
  {
   "cell_type": "code",
   "execution_count": 3,
   "id": "362bab0e-95b5-476b-8d7e-cc0ff73a7e59",
   "metadata": {},
   "outputs": [],
   "source": [
    "def calculate_frequencies(indices, dt, signal_length):\n",
    "    \"\"\"Calculate and interpolate frequencies\"\"\"\n",
    "    time_periods = np.diff(indices) * dt\n",
    "    frequencies = 1 / time_periods\n",
    "    midpoints = indices[:-1] + np.diff(indices) / 2\n",
    "    f = interp1d(midpoints, frequencies, kind='linear', fill_value='extrapolate', bounds_error=False)\n",
    "    return f(np.arange(signal_length))\n",
    "\n",
    "def infer_frequencies(x, dt=1/N):\n",
    "    \"\"\"\n",
    "    Assign current frequency at each timestep.\n",
    "    \n",
    "    Parameters:\n",
    "       x(numpy.ndarray): input, continuous signal\n",
    "       dt(float): time difference between each subsequent sample (1/Fs)\n",
    "       \n",
    "    Returns:\n",
    "       numpy.ndarray: current frequency at each timestep\n",
    "    \"\"\"\n",
    "    # Detect peaks and troughs\n",
    "    peak_indices = find_peaks(x)[0]\n",
    "    trough_indices = find_peaks(-x)[0]\n",
    "\n",
    "    # Calculate frequencies using peaks and troughs independently\n",
    "    peak_freqs = calculate_frequencies(peak_indices, dt, len(x))\n",
    "    trough_freqs = calculate_frequencies(trough_indices, dt, len(x))\n",
    "\n",
    "    # Combine the frequencies calculated from peaks and troughs\n",
    "    combined_freqs = (peak_freqs + trough_freqs) / 2\n",
    "\n",
    "    return combined_freqs"
   ]
  },
  {
   "cell_type": "code",
   "execution_count": 4,
   "id": "08e6940e-c285-4999-b7f3-2895d303f487",
   "metadata": {},
   "outputs": [],
   "source": [
    "def get_angle(f):\n",
    "    return np.angle(np.fft.fft(f)[1])\n",
    "\n",
    "def get_angles(F):\n",
    "    return np.angle(np.fft.fft(F, axis=1)[:, 1])\n",
    "\n",
    "def get_amps(F):\n",
    "    return np.abs(np.fft.fft(F, axis=1)[:, 1])"
   ]
  },
  {
   "cell_type": "code",
   "execution_count": 5,
   "id": "e9dad298-6daf-47c1-bfe0-cf673ed3c56d",
   "metadata": {},
   "outputs": [],
   "source": [
    "def to_theta(x):\n",
    "    return ((x + np.pi) % (2*np.pi)) - np.pi"
   ]
  },
  {
   "cell_type": "code",
   "execution_count": 6,
   "id": "281cc576-a31c-4243-b446-d954af9c787d",
   "metadata": {},
   "outputs": [],
   "source": [
    "def mean_angle(amps, angs):\n",
    "    s = sum(amps)\n",
    "    return np.angle(np.sum([\n",
    "        amp * np.exp(1j*ang)\n",
    "        for amp, ang in zip(amps, angs)\n",
    "    ], axis=0))"
   ]
  }
 ],
 "metadata": {
  "kernelspec": {
   "display_name": "Python 3 (ipykernel)",
   "language": "python",
   "name": "python3"
  },
  "language_info": {
   "codemirror_mode": {
    "name": "ipython",
    "version": 3
   },
   "file_extension": ".py",
   "mimetype": "text/x-python",
   "name": "python",
   "nbconvert_exporter": "python",
   "pygments_lexer": "ipython3",
   "version": "3.11.4"
  }
 },
 "nbformat": 4,
 "nbformat_minor": 5
}
